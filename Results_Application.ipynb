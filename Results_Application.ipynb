{
 "cells": [
  {
   "cell_type": "code",
   "execution_count": 1,
   "metadata": {},
   "outputs": [],
   "source": [
    "import numpy as np\n",
    "from scipy.stats import t\n",
    "import matplotlib.pyplot as plt\n",
    "import random\n",
    "import pandas as pd\n",
    "import scipy.special as sc\n",
    "import scipy.integrate as integrate\n",
    "from scipy.stats import uniform\n",
    "from scipy.stats import norm\n",
    "from statsmodels.stats.power import TTestIndPower\n",
    "from scipy.stats import gaussian_kde\n",
    "from arch import arch_model\n",
    "from random import gauss\n",
    "from scipy.special import gamma\n",
    "from scipy.stats import binom\n",
    "import Theory_Application as th\n"
   ]
  },
  {
   "cell_type": "markdown",
   "metadata": {},
   "source": [
    "# DATA:"
   ]
  },
  {
   "cell_type": "code",
   "execution_count": 2,
   "metadata": {},
   "outputs": [],
   "source": [
    "SPX = pd.read_csv(\"SPX.csv\", parse_dates=['Date'], index_col='Date')\n",
    "SPX_train = SPX.loc['2020-01-02':'2022-12-30', 'Adj Close']\n",
    "SPX_train_returns = SPX_train.pct_change().dropna()*100\n",
    "\n",
    "SPX_test = SPX.loc['2023-01-03':'2023-12-29','Adj Close']\n",
    "SPX_test_returns = SPX_test.pct_change().dropna()*100"
   ]
  },
  {
   "cell_type": "markdown",
   "metadata": {},
   "source": [
    "# DATASETS:"
   ]
  },
  {
   "cell_type": "markdown",
   "metadata": {},
   "source": [
    "# Alpha = 0.99:"
   ]
  },
  {
   "cell_type": "code",
   "execution_count": 3,
   "metadata": {},
   "outputs": [
    {
     "name": "stderr",
     "output_type": "stream",
     "text": [
      "/Users/joachimholst/Desktop/KU/Bachelor/Code/Theory_Application.py:79: FutureWarning: Series.__getitem__ treating keys as positions is deprecated. In a future version, integer keys will always be treated as labels (consistent with DataFrame behavior). To access a value by position, use `ser.iloc[pos]`\n",
      "  MVAR_H_1_i = 0.95*MVAR_H_1[i]+0.05*returns_H_1[i]**2\n"
     ]
    }
   ],
   "source": [
    "Sim = 100\n",
    "#alpha=0.99:\n",
    "#H_0: GARCH(1,1):\n",
    "alph99_h0_garch =               th.DataGen(SPX_train_returns, SPX_train_returns, n=Sim, alpha = 0.99, H_1_model = 'garch')\n",
    "alph99_h0_garch_h1_garch =      th.DataGen(SPX_train_returns, SPX_test_returns,  n=Sim, alpha = 0.99, H_1_model = 'garch', H_0_model = 'garch')\n",
    "alph99_h0_garch_h1_egarch =     th.DataGen(SPX_train_returns, SPX_test_returns,  n=Sim, alpha = 0.99, H_1_model = 'egarch', H_0_model = 'garch')\n",
    "\n",
    "#H_0: EGARCH(1,1):\n",
    "alph99_h0_egarch =              th.DataGen(SPX_train_returns, SPX_train_returns, n=Sim, alpha = 0.99, H_1_model = 'egarch', H_0_model = 'egarch')\n",
    "alph99_h0_egarch_h1_garch =     th.DataGen(SPX_train_returns, SPX_test_returns,  n=Sim, alpha = 0.99, H_1_model = 'garch', H_0_model = 'egarch')\n",
    "alph99_h0_egarch_h1_egarch =    th.DataGen(SPX_train_returns, SPX_test_returns,  n=Sim, alpha = 0.99, H_1_model = 'egarch', H_0_model = 'egarch')\n",
    "\n",
    "#H_0: Normal:\n",
    "alph99_h0_normal =              th.DataGen(SPX_train_returns, SPX_train_returns, n=Sim, alpha = 0.99, H_1_model = 'normal', H_0_model = 'normal')\n",
    "alph99_h0_normal_h1_garch =     th.DataGen(SPX_train_returns, SPX_test_returns,  n=Sim, alpha = 0.99, H_1_model = 'garch', H_0_model = 'normal')\n",
    "alph99_h0_normal_h1_egarch =    th.DataGen(SPX_train_returns, SPX_test_returns,  n=Sim, alpha = 0.99, H_1_model = 'egarch', H_0_model = 'normal')"
   ]
  },
  {
   "cell_type": "markdown",
   "metadata": {},
   "source": [
    "# Alpha = 0.975:"
   ]
  },
  {
   "cell_type": "code",
   "execution_count": 4,
   "metadata": {},
   "outputs": [
    {
     "name": "stderr",
     "output_type": "stream",
     "text": [
      "/Users/joachimholst/Desktop/KU/Bachelor/Code/Theory_Application.py:79: FutureWarning: Series.__getitem__ treating keys as positions is deprecated. In a future version, integer keys will always be treated as labels (consistent with DataFrame behavior). To access a value by position, use `ser.iloc[pos]`\n",
      "  MVAR_H_1_i = 0.95*MVAR_H_1[i]+0.05*returns_H_1[i]**2\n"
     ]
    }
   ],
   "source": [
    "#alpha=0.975:\n",
    "#H_0: GARCH(1,1):\n",
    "alph975_h0_garch =              th.DataGen(SPX_train_returns, SPX_train_returns, n=Sim, alpha = 0.975, H_1_model = 'garch')\n",
    "alph975_h0_garch_h1_garch =     th.DataGen(SPX_train_returns, SPX_test_returns,  n=Sim, alpha = 0.975, H_1_model = 'garch', H_0_model = 'garch')\n",
    "alph975_h0_garch_h1_egarch =    th.DataGen(SPX_train_returns, SPX_test_returns,  n=Sim, alpha = 0.975, H_1_model = 'egarch', H_0_model = 'garch')\n",
    "\n",
    "#H_0: EGARCH(1,1):\n",
    "alph975_h0_egarch =             th.DataGen(SPX_train_returns, SPX_train_returns, n=Sim, alpha = 0.975, H_1_model = 'egarch', H_0_model = 'egarch')\n",
    "alph975_h0_egarch_h1_garch =    th.DataGen(SPX_train_returns, SPX_test_returns,  n=Sim, alpha = 0.975, H_1_model = 'garch', H_0_model = 'egarch')\n",
    "alph975_h0_egarch_h1_egarch =   th.DataGen(SPX_train_returns, SPX_test_returns,  n=Sim, alpha = 0.975, H_1_model = 'egarch', H_0_model = 'egarch')\n",
    "\n",
    "#H_0: Normal:\n",
    "alph975_h0_normal =             th.DataGen(SPX_train_returns, SPX_train_returns, n=Sim, alpha = 0.975, H_1_model = 'normal', H_0_model = 'normal')\n",
    "alph975_h0_normal_h1_garch =    th.DataGen(SPX_train_returns, SPX_test_returns,  n=Sim, alpha = 0.975, H_1_model = 'garch', H_0_model = 'normal')\n",
    "alph975_h0_normal_h1_egarch =   th.DataGen(SPX_train_returns, SPX_test_returns,  n=Sim, alpha = 0.975, H_1_model = 'egarch', H_0_model = 'normal')"
   ]
  },
  {
   "cell_type": "markdown",
   "metadata": {},
   "source": [
    "# VaR BACKTEST:"
   ]
  },
  {
   "cell_type": "code",
   "execution_count": 5,
   "metadata": {},
   "outputs": [],
   "source": [
    "#H_0: GARCH(1,1):\n",
    "VaRBack_h0_garch =               th.VaR_backtest(alph99_h0_garch[0], alph99_h0_garch[2], Sim)\n",
    "VaRBack_h0_garch_h1_garch =      th.VaR_backtest(alph99_h0_garch_h1_garch[0], alph99_h0_garch_h1_garch[2], Sim)\n",
    "VaRBack_h0_garch_h1_egarch =     th.VaR_backtest(alph99_h0_garch_h1_egarch[0], alph99_h0_garch_h1_egarch[2], Sim)\n",
    "\n",
    "#H_0: EGARCH(1,1):\n",
    "VaRBack_h0_egarch =              th.VaR_backtest(alph99_h0_egarch[0], alph99_h0_egarch[2], Sim)\n",
    "VaRBack_h0_egarch_h1_garch =     th.VaR_backtest(alph99_h0_egarch_h1_garch[0], alph99_h0_egarch_h1_garch[2], Sim)\n",
    "VaRBack_h0_egarch_h1_egarch =    th.VaR_backtest(alph99_h0_egarch_h1_egarch[0], alph99_h0_egarch_h1_egarch[2], Sim)\n",
    "\n",
    "#H_0: Normal:\n",
    "VaRBack_h0_normal =              th.VaR_backtest(alph99_h0_normal[0], alph99_h0_normal[2], Sim)\n",
    "VaRBack_h0_normal_h1_garch =     th.VaR_backtest(alph99_h0_normal_h1_garch[0], alph99_h0_normal_h1_garch[2], Sim)\n",
    "VaRBack_h0_normal_h1_egarch =    th.VaR_backtest(alph99_h0_normal_h1_egarch[0], alph99_h0_normal_h1_egarch[2], Sim)"
   ]
  },
  {
   "cell_type": "markdown",
   "metadata": {},
   "source": [
    "# Z_1:"
   ]
  },
  {
   "cell_type": "code",
   "execution_count": 6,
   "metadata": {},
   "outputs": [],
   "source": [
    "#H_0: GARCH(1,1):\n",
    "Z_1Back_h0_garch =               th.Z_1_ES(alph975_h0_garch[0],alph975_h0_garch[1], alph975_h0_garch[2], Sim)\n",
    "Z_1Back_h0_garch_h1_garch =      th.Z_1_ES(alph975_h0_garch_h1_garch[0],alph975_h0_garch_h1_garch[1], alph975_h0_garch_h1_garch[2], Sim)\n",
    "Z_1Back_h0_garch_h1_egarch =     th.Z_1_ES(alph975_h0_garch_h1_egarch[0],alph975_h0_garch_h1_egarch[1], alph975_h0_garch_h1_egarch[2], Sim)\n",
    "\n",
    "#H_0: EGARCH(1,1):\n",
    "Z_1Back_h0_egarch =              th.Z_1_ES(alph975_h0_egarch[0],alph975_h0_egarch[1], alph975_h0_egarch[2], Sim)\n",
    "Z_1Back_h0_egarch_h1_garch =     th.Z_1_ES(alph975_h0_egarch_h1_garch[0],alph975_h0_egarch_h1_garch[1], alph975_h0_egarch_h1_garch[2], Sim)\n",
    "Z_1Back_h0_egarch_h1_egarch =    th.Z_1_ES(alph975_h0_egarch_h1_egarch[0],alph975_h0_egarch_h1_egarch[1], alph975_h0_egarch_h1_egarch[2], Sim)\n",
    "\n",
    "#H_0: Normal:\n",
    "Z_1Back_h0_normal =              th.Z_1_ES(alph975_h0_normal[0],alph975_h0_normal[1], alph975_h0_normal[2], Sim)\n",
    "Z_1Back_h0_normal_h1_garch =     th.Z_1_ES(alph975_h0_normal_h1_garch[0],alph975_h0_normal_h1_garch[1], alph975_h0_normal_h1_garch[2], Sim)\n",
    "Z_1Back_h0_normal_h1_egarch =    th.Z_1_ES(alph975_h0_normal_h1_egarch[0],alph975_h0_normal_h1_egarch[1], alph975_h0_normal_h1_egarch[2], Sim)"
   ]
  },
  {
   "cell_type": "markdown",
   "metadata": {},
   "source": [
    "# Z_2:"
   ]
  },
  {
   "cell_type": "code",
   "execution_count": 7,
   "metadata": {},
   "outputs": [],
   "source": [
    "#H_0: GARCH(1,1):\n",
    "Z_2Back_h0_garch            =    th.Z_2_ES(alph975_h0_garch[0],alph975_h0_garch[1], alph975_h0_garch[2], Sim)\n",
    "Z_2Back_h0_garch_h1_garch   =    th.Z_2_ES(alph975_h0_garch_h1_garch[0],alph975_h0_garch_h1_garch[1], alph975_h0_garch_h1_garch[2], Sim)\n",
    "Z_2Back_h0_garch_h1_egarch  =    th.Z_2_ES(alph975_h0_garch_h1_egarch[0],alph975_h0_garch_h1_egarch[1], alph975_h0_garch_h1_egarch[2], Sim)\n",
    "\n",
    "#H_0: EGARCH(1,1):\n",
    "Z_2Back_h0_egarch            =   th.Z_2_ES(alph975_h0_egarch[0],alph975_h0_egarch[1], alph975_h0_egarch[2], Sim)\n",
    "Z_2Back_h0_egarch_h1_garch   =   th.Z_2_ES(alph975_h0_egarch_h1_garch[0],alph975_h0_egarch_h1_garch[1], alph975_h0_egarch_h1_garch[2], Sim)\n",
    "Z_2Back_h0_egarch_h1_egarch  =   th.Z_2_ES(alph975_h0_egarch_h1_egarch[0],alph975_h0_egarch_h1_egarch[1], alph975_h0_egarch_h1_egarch[2], Sim)\n",
    "\n",
    "#H_0: Normal:\n",
    "Z_2Back_h0_normal            =   th.Z_2_ES(alph975_h0_normal[0],alph975_h0_normal[1], alph975_h0_normal[2], Sim)\n",
    "Z_2Back_h0_normal_h1_garch   =   th.Z_2_ES(alph975_h0_normal_h1_garch[0],alph975_h0_normal_h1_garch[1], alph975_h0_normal_h1_garch[2], Sim)\n",
    "Z_2Back_h0_normal_h1_egarch  =   th.Z_2_ES(alph975_h0_normal_h1_egarch[0],alph975_h0_normal_h1_egarch[1], alph975_h0_normal_h1_egarch[2], Sim)"
   ]
  },
  {
   "cell_type": "markdown",
   "metadata": {},
   "source": [
    "# N&Z:"
   ]
  },
  {
   "cell_type": "code",
   "execution_count": 8,
   "metadata": {},
   "outputs": [],
   "source": [
    "#H_0: GARCH(1,1):\n",
    "NZBack_h0_garch =               th.NZ_ES_one(alph975_h0_garch[0],alph975_h0_garch[1], alph975_h0_garch[2],alph975_h0_garch[3], n=Sim, alpha=0.975)\n",
    "NZBack_h0_garch_h1_garch =      th.NZ_ES_one(alph975_h0_garch_h1_garch[0],alph975_h0_garch_h1_garch[1], alph975_h0_garch_h1_garch[2],alph975_h0_garch_h1_garch[3], n=Sim, alpha=0.975)\n",
    "NZBack_h0_garch_h1_egarch =     th.NZ_ES_one(alph975_h0_garch_h1_egarch[0],alph975_h0_garch_h1_egarch[1], alph975_h0_garch_h1_egarch[2], alph975_h0_garch_h1_egarch[3], n=Sim, alpha=0.975)\n",
    "\n",
    "#H_0: EGARCH(1,1):\n",
    "NZBack_h0_egarch =              th.NZ_ES_one(alph975_h0_egarch[0],alph975_h0_egarch[1], alph975_h0_egarch[2],alph975_h0_egarch[3], n=Sim, alpha=0.975)\n",
    "NZBack_h0_egarch_h1_garch =     th.NZ_ES_one(alph975_h0_egarch_h1_garch[0],alph975_h0_egarch_h1_garch[1], alph975_h0_egarch_h1_garch[2],alph975_h0_egarch_h1_garch[3], n=Sim, alpha=0.975)\n",
    "NZBack_h0_egarch_h1_egarch =    th.NZ_ES_one(alph975_h0_egarch_h1_egarch[0],alph975_h0_egarch_h1_egarch[1], alph975_h0_egarch_h1_egarch[2], alph975_h0_egarch_h1_egarch[3], n=Sim, alpha=0.975)\n",
    "\n",
    "#H_0: Normal:\n",
    "NZBack_h0_normal =              th.NZ_ES_one(alph975_h0_normal[0],alph975_h0_normal[1], alph975_h0_normal[2], alph975_h0_normal[3], n=Sim, alpha=0.975)\n",
    "NZBack_h0_normal_h1_garch =     th.NZ_ES_one(alph975_h0_normal_h1_garch[0],alph975_h0_normal_h1_garch[1], alph975_h0_normal_h1_garch[2],alph975_h0_normal_h1_garch[3], n=Sim, alpha=0.975)\n",
    "NZBack_h0_normal_h1_egarch =    th.NZ_ES_one(alph975_h0_normal_h1_egarch[0],alph975_h0_normal_h1_egarch[1], alph975_h0_normal_h1_egarch[2], alph975_h0_normal_h1_egarch[3], n=Sim, alpha=0.975)"
   ]
  },
  {
   "cell_type": "markdown",
   "metadata": {},
   "source": [
    "# T Vals:"
   ]
  },
  {
   "cell_type": "code",
   "execution_count": 67,
   "metadata": {},
   "outputs": [],
   "source": [
    "#H_0: GARCH(1,1):\n",
    "T_NZBack_h0_garch =               [NZBack_h0_garch[0][j][i] for j, i in enumerate(NZBack_h0_garch[3])]\n",
    "T_NZBack_h0_garch_h1_garch =      [NZBack_h0_garch_h1_garch[0][j][i] for j,i in enumerate(NZBack_h0_garch_h1_garch[3])]\n",
    "T_NZBack_h0_garch_h1_egarch =     [NZBack_h0_garch_h1_egarch[0][j][i] for j,i in enumerate(NZBack_h0_garch_h1_egarch[3])]\n",
    "\n",
    "#H_0: EGARCH(1,1):\n",
    "T_NZBack_h0_egarch =              [NZBack_h0_egarch[0][j][i] for j,i in enumerate(NZBack_h0_egarch[3])]\n",
    "T_NZBack_h0_egarch_h1_garch =     [NZBack_h0_egarch_h1_garch[0][j][i] for j,i in enumerate(NZBack_h0_egarch_h1_garch[3])]\n",
    "T_NZBack_h0_egarch_h1_egarch =    [NZBack_h0_egarch_h1_egarch[0][j][i] for j,i in enumerate(NZBack_h0_egarch_h1_egarch[3])]\n",
    "\n",
    "#H_0: Normal:\n",
    "T_NZBack_h0_normal =              [NZBack_h0_normal[0][j][i] for j,i in enumerate(NZBack_h0_normal[3])]\n",
    "T_NZBack_h0_normal_h1_garch =     [NZBack_h0_normal_h1_garch[0][j][i] for j,i in enumerate(NZBack_h0_normal_h1_garch[3])]\n",
    "T_NZBack_h0_normal_h1_egarch =    [NZBack_h0_normal_h1_egarch[0][j][i] for j,i in enumerate(NZBack_h0_normal_h1_egarch[3])]"
   ]
  },
  {
   "cell_type": "markdown",
   "metadata": {},
   "source": [
    "# Udregning af p-værdier og Power:"
   ]
  },
  {
   "cell_type": "code",
   "execution_count": 10,
   "metadata": {},
   "outputs": [],
   "source": [
    "def CDF(data):\n",
    "        data_sorted = np.sort(data)\n",
    "        return np.arange(1, len(data_sorted) + 1) / len(data_sorted)\n",
    "\n",
    "def compute_critical_value(data_null, significance_level):\n",
    "    data_sorted = np.sort(data_null)\n",
    "    cdf_0 = CDF(data_sorted)\n",
    "    significance_lower = significance_level / 2\n",
    "    significance_upper = 1 - significance_level / 2\n",
    "    crit_value_lower = data_sorted[np.argmax(cdf_0 >= significance_lower)]\n",
    "    crit_value_upper = data_sorted[np.argmax(cdf_0 >= significance_upper)]\n",
    "    return [crit_value_lower, crit_value_upper]\n",
    "\n",
    "\n",
    "def compute_powers(data, data_null, significance_level):\n",
    "    critical_values = compute_critical_value(data_null, significance_level)\n",
    "    power = (np.sum(data <= critical_values[0]) + np.sum(data >= critical_values[1])) / len(data)\n",
    "    return power"
   ]
  },
  {
   "cell_type": "markdown",
   "metadata": {},
   "source": [
    "# VaR_99 crit vals:"
   ]
  },
  {
   "cell_type": "code",
   "execution_count": 11,
   "metadata": {},
   "outputs": [
    {
     "name": "stdout",
     "output_type": "stream",
     "text": [
      "[4.287417218543046, 8.574834437086093]\n",
      "[2.9682119205298014, 7.585430463576159]\n",
      "[1.6490066225165563, 5.276821192052981]\n"
     ]
    }
   ],
   "source": [
    "length_relation = len(SPX_train_returns)/len(SPX_test_returns)\n",
    "\n",
    "print(compute_critical_value(VaRBack_h0_garch[0]/length_relation, significance_level=0.119))\n",
    "signif_garch = 0.119\n",
    "\n",
    "print(compute_critical_value(VaRBack_h0_egarch[0]/length_relation, significance_level=0.10))\n",
    "signif_egarch = 0.1\n",
    "\n",
    "print(compute_critical_value(VaRBack_h0_normal[0]/length_relation, significance_level=0.10))\n",
    "signif_normal = 0.1\n"
   ]
  },
  {
   "cell_type": "markdown",
   "metadata": {},
   "source": [
    "# VaR_99:"
   ]
  },
  {
   "cell_type": "code",
   "execution_count": 12,
   "metadata": {},
   "outputs": [],
   "source": [
    "#H_0: GARCH(1,1):\n",
    "VaR_power_h0_garch_h1_garch = compute_powers(data = VaRBack_h0_garch_h1_garch[0], data_null = VaRBack_h0_garch[0]/length_relation, significance_level = signif_garch)\n",
    "VaR_power_h0_garch_h1_egarch = compute_powers(data = VaRBack_h0_garch_h1_egarch[0], data_null = VaRBack_h0_garch[0]/length_relation, significance_level = signif_garch)\n",
    "\n",
    "#H_0: EGARCH(1,1):\n",
    "VaR_power_h0_egarch_h1_garch = compute_powers(data = VaRBack_h0_egarch_h1_garch[0], data_null = VaRBack_h0_egarch[0]/length_relation, significance_level = signif_egarch)\n",
    "VaR_power_h0_egarch_h1_egarch = compute_powers(data = VaRBack_h0_egarch_h1_egarch[0], data_null = VaRBack_h0_egarch[0]/length_relation, significance_level = signif_egarch)\n",
    "\n",
    "#H_0: Normal:\n",
    "VaR_power_h0_normal_h1_garch = compute_powers(data = VaRBack_h0_normal_h1_garch[0], data_null = VaRBack_h0_normal[0]/length_relation, significance_level = signif_normal)\n",
    "VaR_power_h0_normal_h1_egarch = compute_powers(data = VaRBack_h0_normal_h1_egarch[0], data_null = VaRBack_h0_normal[0]/length_relation, significance_level = signif_normal)"
   ]
  },
  {
   "cell_type": "markdown",
   "metadata": {},
   "source": [
    "# Z_1:"
   ]
  },
  {
   "cell_type": "code",
   "execution_count": 13,
   "metadata": {},
   "outputs": [],
   "source": [
    "#H_0: GARCH(1,1):\n",
    "Z1_power_h0_garch_h1_garch = compute_powers(data = Z_1Back_h0_garch_h1_garch[0], data_null = Z_1Back_h0_garch[0], significance_level = signif_garch)\n",
    "Z1_power_h0_garch_h1_egarch = compute_powers(data = Z_1Back_h0_garch_h1_egarch[0], data_null = Z_1Back_h0_garch[0], significance_level = signif_garch)\n",
    "\n",
    "#H_0: EGARCH(1,1):\n",
    "Z1_power_h0_egarch_h1_garch = compute_powers(data = Z_1Back_h0_egarch_h1_garch[0], data_null = Z_1Back_h0_egarch[0], significance_level = signif_egarch)\n",
    "Z1_power_h0_egarch_h1_egarch = compute_powers(data = Z_1Back_h0_egarch_h1_egarch[0], data_null = Z_1Back_h0_egarch[0], significance_level = signif_egarch)\n",
    "\n",
    "#H_0: Normal:\n",
    "Z1_power_h0_normal_h1_garch = compute_powers(data = Z_1Back_h0_normal_h1_garch[0], data_null = Z_1Back_h0_normal[0], significance_level = signif_normal)\n",
    "Z1_power_h0_normal_h1_egarch = compute_powers(data = Z_1Back_h0_normal_h1_egarch[0], data_null = Z_1Back_h0_normal[0], significance_level = signif_normal)"
   ]
  },
  {
   "cell_type": "markdown",
   "metadata": {},
   "source": [
    "# Z_2:"
   ]
  },
  {
   "cell_type": "code",
   "execution_count": 14,
   "metadata": {},
   "outputs": [],
   "source": [
    "#H_0: GARCH(1,1):\n",
    "Z2_power_h0_garch_h1_garch = compute_powers(data = Z_2Back_h0_garch_h1_garch[0], data_null = Z_2Back_h0_garch[0], significance_level = signif_garch)\n",
    "Z2_power_h0_garch_h1_egarch = compute_powers(data = Z_2Back_h0_garch_h1_egarch[0], data_null = Z_2Back_h0_garch[0], significance_level = signif_garch)\n",
    "\n",
    "#H_0: EGARCH(1,1):\n",
    "Z2_power_h0_egarch_h1_garch = compute_powers(data = Z_2Back_h0_egarch_h1_garch[0], data_null = Z_2Back_h0_egarch[0], significance_level = signif_egarch)\n",
    "Z2_power_h0_egarch_h1_egarch = compute_powers(data = Z_2Back_h0_egarch_h1_egarch[0], data_null = Z_2Back_h0_egarch[0], significance_level = signif_egarch)\n",
    "\n",
    "#H_0: Normal:\n",
    "Z2_power_h0_normal_h1_garch = compute_powers(data = Z_2Back_h0_normal_h1_garch[0], data_null = Z_2Back_h0_normal[0], significance_level = signif_normal)\n",
    "Z2_power_h0_normal_h1_egarch = compute_powers(data = Z_2Back_h0_normal_h1_egarch[0], data_null = Z_2Back_h0_normal[0], significance_level = signif_normal)"
   ]
  },
  {
   "cell_type": "markdown",
   "metadata": {},
   "source": [
    "# NZ:"
   ]
  },
  {
   "cell_type": "code",
   "execution_count": 69,
   "metadata": {},
   "outputs": [],
   "source": [
    "#H_0: GARCH(1,1):\n",
    "NZ_power_h0_garch_h1_garch = compute_powers(data = T_NZBack_h0_garch_h1_garch, data_null = np.array(T_NZBack_h0_garch), significance_level = signif_garch)\n",
    "NZ_power_h0_garch_h1_egarch = compute_powers(data = T_NZBack_h0_garch_h1_egarch, data_null = np.array(T_NZBack_h0_garch), significance_level = signif_garch)\n",
    "\n",
    "#H_0: EGARCH(1,1):\n",
    "NZ_power_h0_egarch_h1_garch = compute_powers(data = T_NZBack_h0_egarch_h1_garch, data_null = np.array(T_NZBack_h0_egarch), significance_level = signif_egarch)\n",
    "NZ_power_h0_egarch_h1_egarch = compute_powers(data = T_NZBack_h0_egarch_h1_egarch, data_null = np.array(T_NZBack_h0_egarch), significance_level = signif_egarch)\n",
    "\n",
    "#H_0: Normal:\n",
    "NZ_power_h0_normal_h1_garch = compute_powers(data = T_NZBack_h0_normal_h1_garch, data_null = np.array(T_NZBack_h0_normal), significance_level = signif_normal)\n",
    "NZ_power_h0_normal_h1_egarch = compute_powers(data = T_NZBack_h0_normal_h1_egarch, data_null = np.array(T_NZBack_h0_normal), significance_level = signif_normal)"
   ]
  }
 ],
 "metadata": {
  "kernelspec": {
   "display_name": "base",
   "language": "python",
   "name": "python3"
  },
  "language_info": {
   "codemirror_mode": {
    "name": "ipython",
    "version": 3
   },
   "file_extension": ".py",
   "mimetype": "text/x-python",
   "name": "python",
   "nbconvert_exporter": "python",
   "pygments_lexer": "ipython3",
   "version": "3.11.5"
  },
  "orig_nbformat": 4
 },
 "nbformat": 4,
 "nbformat_minor": 2
}
